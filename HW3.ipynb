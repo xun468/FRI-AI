{
 "cells": [
  {
   "cell_type": "markdown",
   "metadata": {},
   "source": [
    "# HOMEWORK-3 (HW3)\n",
    "\n",
    "## Due 12 Feb 2016 (Friday, 11:59pm)\n",
    "\n",
    "**Important Note:** Before uploading your homework on Canvas, please name your file as following:\n",
    "\n",
    "*HW#_FirstLastName.ipynb*\n",
    "\n",
    "where \"#\" denotes the homework number, \"FirstLastName\" is the name of the student (for example, HW1_MickeyMouse.ipynb). Each student will hand in their own file even if two students in the cohort work together. If you work with another student, please write her/his name on top of the first cell (as a comment or Markdown cell)."
   ]
  },
  {
   "cell_type": "markdown",
   "metadata": {},
   "source": [
    "**Question-1 (1/6 points):** Write a letter to your grandma (*or  any person who wouldn't have a background in evolution, biology or computer science* -- no offense) and try to explain her **Genetic Algorithms** (GAs) in the simplest way. For instance, assume that you want to try cooking her delicious apple pie (you wish!) and let's say that you know the ingredients, but not the accurate amounts of each ingredient as well as the temperature settings of the oven. Then what?? Luckily, you have just learned the working principles of GAs and are looking forward to applying it to a real-world problem. *Kindly* explain her that how you hacked her recipe! "
   ]
  },
  {
   "cell_type": "markdown",
   "metadata": {},
   "source": [
    "First, I'd set up a couple possible cake recipies. I decide how many pie I will make for every try, lets say like three. \n",
    "\n",
    "Since I know the ingrediants and (I assume?) the temperature of the oven, I can start by just putting in ingrediants in different amounts for each of 3 pies in my first try. \n",
    "\n",
    "After I've baked them, I taste each one. I pick the pie that tastes the best and use that for my basis for the next try. \n",
    "\n",
    "In the second try each of the three pies will start with the ingrediants in the best pie from the last try, but then I will change up the recipie a little so that each cake is now slightly different. I bake them and try them, and pick the best one from those and repeat the process. If I continue doing this enough, I might be able to get close to or completely recreate the apple pie recipie. "
   ]
  },
  {
   "cell_type": "markdown",
   "metadata": {},
   "source": [
    "**Your letter goes here:**\n",
    "\n",
    "Dear Grandma,\n",
    "\n",
    "You cannot believe what I learned today. ..."
   ]
  },
  {
   "cell_type": "markdown",
   "metadata": {},
   "source": [
    "**Question-2 (1/6 points):** Implement the **binary-coded simple GA** in **DEAP** (Distributed Evolutionary Algorithms in Python) to solve the **Zero Max** problem of 30-bit genome structure.\n",
    "\n",
    "**Note:** Maximize the number of zeros in a binary string (list, vector, etc.) "
   ]
  },
  {
   "cell_type": "code",
   "execution_count": 1,
   "metadata": {
    "collapsed": false
   },
   "outputs": [],
   "source": [
    "import random\n",
    "import deap\n",
    "import math\n",
    "from deap import tools, creator, base, algorithms"
   ]
  },
  {
   "cell_type": "code",
   "execution_count": 2,
   "metadata": {
    "collapsed": false
   },
   "outputs": [
    {
     "name": "stdout",
     "output_type": "stream",
     "text": [
      "gen\tnevals\n",
      "0  \t100   \n",
      "1  \t77    \n",
      "2  \t58    \n",
      "3  \t57    \n",
      "4  \t48    \n",
      "5  \t67    \n",
      "6  \t65    \n",
      "7  \t60    \n",
      "8  \t67    \n",
      "9  \t46    \n",
      "10 \t65    \n",
      "11 \t64    \n",
      "12 \t61    \n",
      "13 \t56    \n",
      "14 \t56    \n",
      "15 \t70    \n",
      "16 \t65    \n",
      "17 \t58    \n",
      "18 \t49    \n",
      "19 \t64    \n",
      "20 \t62    \n",
      "21 \t58    \n",
      "22 \t55    \n",
      "23 \t55    \n",
      "24 \t51    \n",
      "25 \t50    \n",
      "26 \t57    \n",
      "27 \t57    \n",
      "28 \t51    \n",
      "29 \t57    \n",
      "30 \t63    \n",
      "31 \t55    \n",
      "32 \t53    \n",
      "33 \t62    \n",
      "34 \t65    \n",
      "35 \t55    \n",
      "36 \t55    \n",
      "37 \t54    \n",
      "38 \t63    \n",
      "39 \t49    \n",
      "40 \t64    \n",
      "41 \t49    \n",
      "42 \t53    \n",
      "43 \t63    \n",
      "44 \t52    \n",
      "45 \t52    \n",
      "46 \t63    \n",
      "47 \t63    \n",
      "48 \t65    \n",
      "49 \t73    \n",
      "50 \t50    \n",
      "[[0, 0, 0, 0, 0, 0, 0, 0, 0, 0, 0, 0, 0, 0, 0, 0, 0, 0, 0, 0, 0, 0, 0, 0, 0, 0, 0, 0, 0, 0]]\n"
     ]
    }
   ],
   "source": [
    "random.seed(42)\n",
    "def zeroMax(string):\n",
    "    return (sum(string),)\n",
    "\n",
    "def question2():\n",
    "    creator.create(\"bestFit\", base.Fitness, weights = (-1.0,))\n",
    "    creator.create(\"stringStruct\", list, fitness = creator.bestFit)\n",
    "\n",
    "    toolbx = base.Toolbox()\n",
    "    toolbx.register(\"bit\",random.randint,0,1)\n",
    "    toolbx.register(\"string\", tools.initRepeat,creator.stringStruct,toolbx.bit,n=30)\n",
    "    toolbx.register(\"set\",tools.initRepeat,list,toolbx.string,n=100)\n",
    "\n",
    "    toolbx.register(\"evaluate\",zeroMax)\n",
    "    toolbx.register(\"mate\",tools.cxTwoPoint)\n",
    "    toolbx.register(\"mutate\",tools.mutFlipBit,indpb = 0.1)\n",
    "    toolbx.register(\"select\", tools.selTournament,tournsize =3)  ##Note: names are important here\n",
    "    toolbx.register(\"map\",map)\n",
    "\n",
    "    cxprob, mutprob, ngens = 0.5,0.2,50\n",
    "    set = toolbx.set()\n",
    "    hof = tools.HallOfFame(1)\n",
    "    set = algorithms.eaSimple(set, toolbx, cxprob, mutprob, ngens,halloffame = hof)\n",
    "    print hof\n",
    "\n",
    "question2()"
   ]
  },
  {
   "cell_type": "markdown",
   "metadata": {},
   "source": [
    "**Question-3 (2/6 points):** Try to solve the **8-by-8** maze given below by using **DEAP**. Note that you have 30 moves. Since you have 4 directions to move; each direction can be encoded with 2-bits (i.e., **00**: NORTH, **01**: SOUTH, **10**: EAST, **11**: WEST).\n",
    "\n",
    "<img src=\"maze.png\">"
   ]
  },
  {
   "cell_type": "markdown",
   "metadata": {},
   "source": [
    "**HINTS:** Fitness can be calculated as the distance between the final position (cell) and the **STOP** cell, in terms of number of horizontal and vertical cells (or the Euclideon distance)."
   ]
  },
  {
   "cell_type": "code",
   "execution_count": 104,
   "metadata": {
    "collapsed": false,
    "scrolled": true
   },
   "outputs": [
    {
     "name": "stdout",
     "output_type": "stream",
     "text": [
      "[[0, 1], [0, 1], [1, 0], [1, 0], [0, 1], [1, 1], [1, 0], [1, 1], [0, 1], [0, 1], [1, 0], [0, 1], [1, 0], [1, 0], [1, 0]]\n",
      "[[0, 1], [0, 1], [0, 1], [0, 1], [1, 1], [1, 0], [0, 1], [0, 1], [0, 0], [1, 0], [1, 0], [0, 1], [1, 0], [1, 0], [1, 0]]\n",
      "[[0, 1], [0, 1], [0, 1], [0, 0], [1, 1], [0, 1], [1, 0], [1, 0], [0, 1], [1, 0], [0, 1], [0, 1], [1, 0], [1, 0], [1, 0]]\n"
     ]
    },
    {
     "data": {
      "text/plain": [
       "<function matplotlib.pyplot.show>"
      ]
     },
     "execution_count": 104,
     "metadata": {},
     "output_type": "execute_result"
    },
    {
     "data": {
      "image/png": "[encoded data removed]",
      "text/plain": [
       "<matplotlib.figure.Figure at 0x7f6547ac9a10>"
      ]
     },
     "metadata": {},
     "output_type": "display_data"
    },
    {
     "data": {
      "image/png": "[encoded data removed]",
      "text/plain": [
       "<matplotlib.figure.Figure at 0x7f654819b2d0>"
      ]
     },
     "metadata": {},
     "output_type": "display_data"
    },
    {
     "data": {
      "image/png": "[encoded data removed]",
      "text/plain": [
       "<matplotlib.figure.Figure at 0x7f65483584d0>"
      ]
     },
     "metadata": {},
     "output_type": "display_data"
    },
    {
     "data": {
      "image/png": "[encoded data removed]",
      "text/plain": [
       "<matplotlib.figure.Figure at 0x7f6548309850>"
      ]
     },
     "metadata": {},
     "output_type": "display_data"
    }
   ],
   "source": [
    "%matplotlib inline\n",
    "import numpy \n",
    "import matplotlib.pyplot as plt \n",
    "import pickle\n",
    "\n",
    "random.seed(42)\n",
    "#instantiate maze\n",
    "board = [[0 for i in range(8)] for j in range(8)]\n",
    "\n",
    "board[1][0] = 1\n",
    "board[1][1] = 1\n",
    "board[1][2] = 1\n",
    "board[1][3] = 1\n",
    "board[2][3] = 1\n",
    "board[3][3] = 1\n",
    "board[4][3] = 1\n",
    "board[5][3] = 1\n",
    "board[6][3] = 1\n",
    "board[6][4] = 1\n",
    "board[6][5] = 1\n",
    "board[6][6] = 1\n",
    "board[6][7] = 1\n",
    "\n",
    "#00: NORTH, 01: SOUTH, 10: EAST, 11: WEST\n",
    "def evalMove(s,p):\n",
    "    pos = p\n",
    "    if s[0] == 0:\n",
    "        if s[1] == 0: #00, north\n",
    "            pos[0] = pos[0]-1\n",
    "        else: #01, south\n",
    "            pos[0] = pos[0]+1\n",
    "    else:\n",
    "        if s[1] == 0: #10 east\n",
    "            pos[1] = pos[1]+1\n",
    "        else: #11 west\n",
    "            pos[1] = pos[1]-1\n",
    "    if pos[0] > 7 or pos[0] < 0:\n",
    "        return [-1,0]\n",
    "    return pos\n",
    "\n",
    "def evalMaze(mlist):\n",
    "    moves = [mlist[2*i:2*(i+1)] for i in range(len(mlist)/2)]\n",
    "    pos = [1,0]\n",
    "    oldpos = [[1,0]]\n",
    "\n",
    "    for c in moves:\n",
    "        npos = evalMove(c,pos)\n",
    "        #check move validity\n",
    "        if npos[0] == -1 or npos in oldpos:\n",
    "            return (10,)\n",
    "\n",
    "        if board[npos[0]][npos[1]] == 1:   #moving forward\n",
    "            oldpos.append(pos)\n",
    "            pos = npos\n",
    "\n",
    "    dist = math.sqrt(((pos[0]-6)**2 + (pos[1]-7)**2))\n",
    "    return (dist,)\n",
    "\n",
    "def question3(cx):\n",
    "    creator.create(\"bestFit\", base.Fitness, weights = (-1.0,))\n",
    "    creator.create(\"stringStruct\", list, fitness = creator.bestFit)\n",
    "\n",
    "    toolbx = base.Toolbox()\n",
    "    toolbx.register(\"bit\",random.randint,0,1)\n",
    "    toolbx.register(\"string\", tools.initRepeat,creator.stringStruct,toolbx.bit,n=30)\n",
    "    toolbx.register(\"set\",tools.initRepeat,list,toolbx.string,n=100)\n",
    "\n",
    "    toolbx.register(\"evaluate\",evalMaze)\n",
    "    toolbx.register(\"mate\",tools.cxTwoPoint)\n",
    "    toolbx.register(\"mutate\",tools.mutFlipBit,indpb = 0.05)\n",
    "    toolbx.register(\"select\", tools.selTournament,tournsize =3)  ##Note: names are important here\n",
    "    toolbx.register(\"map\",map)\n",
    "    \n",
    "    #Statistics \n",
    "    stats = tools.Statistics(key = lambda ind:ind.fitness.values)\n",
    "    stats.register(\"avg\", numpy.mean)\n",
    "    stats.register(\"std\", numpy.std)\n",
    "    stats.register(\"min\", numpy.min)\n",
    "    logbook = tools.Logbook()\n",
    "    \n",
    "\n",
    "    #Running\n",
    "    cxprob, mutprob, ngens = cx,0.2,45\n",
    "    pop = toolbx.set()\n",
    "    hof = tools.HallOfFame(1)\n",
    "    pop, log = algorithms.eaSimple(pop, toolbx, cxprob, mutprob, ngens,halloffame = hof,stats = stats,verbose = 0)\n",
    "    hofp = hof[0]\n",
    "    print [hofp[2*i:2*(i+1)] for i in range(len(hofp)/2)]\n",
    "    return log\n",
    "\n",
    "def plotData(logbook, color, name,plot):\n",
    "    #extract data from logbook\n",
    "    gen = logbook.select(\"gen\")\n",
    "    min_fit = logbook.select(\"min\")\n",
    "    stdev = logbook.select(\"std\")\n",
    "    avg = logbook.select(\"avg\")\n",
    "    \n",
    "    line = ax1.plot(gen,avg,color+\"-\",label = \"CXPROB = \" + name)\n",
    "    err = plot.errorbar(gen,avg,stdev,ecolor = color, color = color, label = \"Std Error\")\n",
    "    m = plot.plot(gen,min_fit,color+\"o\",label = \"Minimum Fitness\")\n",
    "    \n",
    "    plot.legend(m,\"Min\",loc=\"upper center\")\n",
    "    plot.set_title(\"CXPROB = \" + name + \" Standard Deviation\")\n",
    "    plot.set_xlabel(\"Generation\")\n",
    "    plot.set_ylabel(\"Fitness\")\n",
    "    \n",
    "    return line\n",
    "\n",
    "fig, ax1 = plt.subplots() \n",
    "fig,prob1 = plt.subplots()\n",
    "fig,prob2 = plt.subplots()\n",
    "fig,prob3 = plt.subplots()\n",
    "\n",
    "#get data for cxprob = 0.2\n",
    "logbook = question3(0.2)\n",
    "line1 = plotData(logbook,\"b\",\"0.2\",prob1)\n",
    "\n",
    "#get data for cxprob = 0.5\n",
    "logbook = question3(0.5)\n",
    "line2 = plotData(logbook,\"r\",\"0.5\",prob2)\n",
    "\n",
    "#get data for cxprob = 0.8\n",
    "logbook = question3(0.8)\n",
    "line3 = plotData(logbook,\"g\",\"0.8\",prob3)\n",
    "\n",
    "ax1.set_title(\"CXPROB Average Fitness\")\n",
    "ax1.set_xlabel(\"Generation\")\n",
    "ax1.set_ylabel(\"Fitness\")\n",
    "\n",
    "lns = line1 + line2 +line3\n",
    "labs = [l.get_label() for l in lns]\n",
    "ax1.legend(lns,labs,loc=\"center right\")\n",
    "\n",
    "plt.show"
   ]
  },
  {
   "cell_type": "markdown",
   "metadata": {},
   "source": [
    "**Question-4: (2/6 points)** Try to solve the [8 Queens Problem](https://en.wikipedia.org/wiki/Eight_queens_puzzle) by using **DEAP**."
   ]
  },
  {
   "cell_type": "code",
   "execution_count": 16,
   "metadata": {
    "collapsed": false,
    "scrolled": true
   },
   "outputs": [
    {
     "name": "stdout",
     "output_type": "stream",
     "text": [
      "gen\tnevals\n",
      "0  \t20    \n",
      "1  \t10    \n",
      "2  \t11    \n",
      "3  \t13    \n",
      "4  \t13    \n",
      "5  \t9     \n",
      "6  \t10    \n",
      "7  \t15    \n",
      "8  \t11    \n",
      "9  \t16    \n",
      "10 \t13    \n",
      "11 \t7     \n",
      "12 \t10    \n",
      "13 \t13    \n",
      "14 \t9     \n",
      "15 \t11    \n",
      "16 \t12    \n",
      "17 \t10    \n",
      "18 \t11    \n",
      "19 \t16    \n",
      "20 \t12    \n",
      "21 \t13    \n",
      "22 \t15    \n",
      "23 \t7     \n",
      "24 \t14    \n",
      "25 \t12    \n",
      "26 \t8     \n",
      "27 \t11    \n",
      "28 \t13    \n",
      "29 \t13    \n",
      "30 \t11    \n",
      "31 \t13    \n",
      "32 \t14    \n",
      "33 \t12    \n",
      "34 \t12    \n",
      "35 \t11    \n",
      "36 \t10    \n",
      "37 \t10    \n",
      "38 \t16    \n",
      "39 \t12    \n",
      "40 \t12    \n",
      "41 \t11    \n",
      "42 \t17    \n",
      "43 \t9     \n",
      "44 \t12    \n",
      "45 \t9     \n",
      "46 \t12    \n",
      "47 \t17    \n",
      "48 \t7     \n",
      "49 \t14    \n",
      "50 \t15    \n",
      "[[5, 2, 6, 1, 3, 7, 0, 4]]\n",
      "\n",
      "[0, 0, 0, 0, 0, 1, 0, 0]\n",
      "[0, 0, 1, 0, 0, 0, 0, 0]\n",
      "[0, 0, 0, 0, 0, 0, 1, 0]\n",
      "[0, 1, 0, 0, 0, 0, 0, 0]\n",
      "[0, 0, 0, 1, 0, 0, 0, 0]\n",
      "[0, 0, 0, 0, 0, 0, 0, 1]\n",
      "[1, 0, 0, 0, 0, 0, 0, 0]\n",
      "[0, 0, 0, 0, 1, 0, 0, 0]\n"
     ]
    }
   ],
   "source": [
    "def evalCollision (coords):\n",
    "    #if a slope is 1, the queens are on a diagonal\n",
    "    #coord format [7,3,6,4,1,5,2,0] -> (0,7),(1,3),(2,6) etc\n",
    "    collisions = 0;\n",
    "    for i in range (8):  \n",
    "        numMatch = 0\n",
    "        for j in range(8):\n",
    "            if numMatch > 1: #try to remove dups\n",
    "                return (8,)\n",
    "            if(i != j and coords[i] != coords[j]):\n",
    "                if (abs(i-j) == abs(coords[i]-coords[j])):\n",
    "                    collisions+=1\n",
    "            else:\n",
    "                numMatch += 1\n",
    "    return (collisions,)\n",
    "            \n",
    "def question4():\n",
    "    creator.create(\"bestFit\", base.Fitness, weights = (-1.0,))\n",
    "    creator.create(\"stringStruct\", list, fitness = creator.bestFit)\n",
    "\n",
    "    toolbx1 = base.Toolbox()\n",
    "    toolbx1.register(\"permutation\", random.sample, range(8), 8) #use permutation to prevent duplicates\n",
    "    toolbx1.register(\"string\", tools.initIterate,creator.stringStruct,toolbx1.permutation)\n",
    "    toolbx1.register(\"set\",tools.initRepeat,list,toolbx1.string,20)\n",
    "\n",
    "    toolbx1.register(\"evaluate\",evalCollision)\n",
    "    toolbx1.register(\"mate\",tools.cxPartialyMatched) #used to prevent duplicates in a permutation\n",
    "    toolbx1.register(\"mutate\",tools.mutFlipBit,indpb = 0.1)\n",
    "    toolbx1.register(\"select\", tools.selTournament,tournsize =3)  \n",
    "    toolbx1.register(\"map\",map)\n",
    "\n",
    "    cxprob, mutprob, ngens = 0.5,0.2,50\n",
    "    hof = tools.HallOfFame(1)\n",
    "    set = toolbx1.set()\n",
    "    set = algorithms.eaSimple(set, toolbx1, cxprob, mutprob, ngens, halloffame = hof)\n",
    "    print hof\n",
    "    print \"\"\n",
    "    coords = hof[0]\n",
    "    board = [[0 for i in range(8)] for j in range(8)]\n",
    "\n",
    "    \n",
    "    for i in range(8):\n",
    "        board[i][coords[i]] = 1\n",
    "        print board[i]\n",
    "        \n",
    "    \n",
    "    \n",
    "question4()"
   ]
  },
  {
   "cell_type": "markdown",
   "metadata": {},
   "source": [
    "**IMPORTANT NOTE !!!!!** If you solve (or get close to solving) **OPTIONAL** questions in general, I will definitely remember your extra effort and emphasize it while writing **RECOMMENDATION LETTER**s."
   ]
  }
 ],
 "metadata": {
  "kernelspec": {
   "display_name": "Python [Root]",
   "language": "python",
   "name": "Python [Root]"
  },
  "language_info": {
   "codemirror_mode": {
    "name": "ipython",
    "version": 2
   },
   "file_extension": ".py",
   "mimetype": "text/x-python",
   "name": "python",
   "nbconvert_exporter": "python",
   "pygments_lexer": "ipython2",
   "version": "2.7.12"
  }
 },
 "nbformat": 4,
 "nbformat_minor": 0
}
