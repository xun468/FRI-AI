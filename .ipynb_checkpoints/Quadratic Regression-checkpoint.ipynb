{
 "cells": [
  {
   "cell_type": "code",
   "execution_count": 1,
   "metadata": {
    "collapsed": false
   },
   "outputs": [],
   "source": [
    "from deap import tools, creator, base, algorithms\n",
    "import numpy\n",
    "import random\n",
    "import matplotlib.pyplot as plt\n",
    "%matplotlib inline\n",
    "\n",
    "points = []\n",
    "mean = 0"
   ]
  },
  {
   "cell_type": "code",
   "execution_count": 19,
   "metadata": {
    "collapsed": false
   },
   "outputs": [],
   "source": [
    "def test_regress(coef):\n",
    "    SSres = 0 \n",
    "    SStot = 0\n",
    "\n",
    "    for point in points:\n",
    "        x = point[0]\n",
    "        yi = coef[0]*x**2 + coef[1]*x + coef[2]\n",
    "        SSres = SSres + (point[1] - yi)**2\n",
    "        SStot = SStot + (point[1] - mean)**2\n",
    "\n",
    "    err = SSres/SStot\n",
    "\n",
    "    return (err,)"
   ]
  },
  {
   "cell_type": "code",
   "execution_count": 35,
   "metadata": {
    "collapsed": true
   },
   "outputs": [],
   "source": [
    "#uncertain here\n",
    "def mutfloat(individual, indpb):\n",
    "\tfor i in individual:\n",
    "   \t\tif random.uniform(0,1) <= indpb:\n",
    "   \t\t\ti = i + random.uniform(-5,5)\t            \n",
    "\treturn (individual,)"
   ]
  },
  {
   "cell_type": "code",
   "execution_count": 31,
   "metadata": {
    "collapsed": false
   },
   "outputs": [],
   "source": [
    "def model ():\n",
    "    creator.create(\"bestFit\", base.Fitness, weights = (-1.0,))\n",
    "    creator.create(\"Individual\",list,fitness=creator.bestFit)\n",
    "\n",
    "    toolbox = base.Toolbox()\n",
    "    toolbox.register(\"Coeff\",random.uniform,-30,30)\n",
    "    toolbox.register(\"individual\",tools.initRepeat,creator.Individual,toolbox.Coeff, 3) \n",
    "    toolbox.register(\"population\",tools.initRepeat,list,toolbox.individual, n = 50)\n",
    "    toolbox.register(\"evaluate\",test_regress)\n",
    "\n",
    "    toolbox.register(\"mate\",tools.cxTwoPoint)\n",
    "    toolbox.register(\"mutate\",mutfloat,indpb = 0.05)\n",
    "    toolbox.register(\"select\", tools.selTournament,tournsize =3)\n",
    "    toolbox.register(\"map\",map)\n",
    "\n",
    "    cxprob, mutprob, ngens = 0.5,0.2,100\n",
    "    pop = toolbox.population()\n",
    "    ind = toolbox.individual()\n",
    "    hof = tools.HallOfFame(1)\n",
    "    pop = algorithms.eaMuPlusLambda(pop, toolbox,10,50, cxprob, mutprob, ngens,halloffame = hof, verbose = 0)\n",
    "    return hof[0]"
   ]
  },
  {
   "cell_type": "code",
   "execution_count": 50,
   "metadata": {
    "collapsed": false,
    "scrolled": false
   },
   "outputs": [
    {
     "name": "stdout",
     "output_type": "stream",
     "text": [
      "[-0.6368330086941398, 28.163289624295132, 6.799609232802538]\n",
      "[224.7492046063399, 285.961526641048, 315.3321982410493, 315.90274720806116, 278.5485901369306, 228.1724984084114, 114.39838029398419, -15.439200279549652, -108.62574083232931, -177.11843128779043, -502.0358338051661, -596.001844608393, -799.2178584235057]\n"
     ]
    },
    {
     "data": {
      "image/png": "[encoded data removed]",
      "text/plain": [
       "<matplotlib.figure.Figure at 0x7f518bc7f090>"
      ]
     },
     "metadata": {},
     "output_type": "display_data"
    }
   ],
   "source": [
    "random.seed(10)\n",
    "xi,yi = [],[] #empty lists for plotting\n",
    "\n",
    "#getting data\n",
    "f = open('data.txt', 'r')\n",
    "points = []\n",
    "for line in f:\n",
    "    point = map(float,line.split())\n",
    "    plt.plot(point[0],point[1],\"b\"+\"o\")\n",
    "    points.append(point)\n",
    "    \n",
    "f.close()\n",
    "\n",
    "#end setting up, begin main \n",
    "\n",
    "for point in points:\n",
    "    mean = mean + point[1]\n",
    "\n",
    "mean = mean/len(points)\n",
    "\n",
    "c = model()\n",
    "print c\n",
    "\n",
    "#plotting\n",
    "for point in points:\n",
    "    xi.append(point[0])\n",
    "    yi.append(c[0] * point[0]**2 + c[1]*point[0] + c[2])\n",
    "\n",
    "plt.plot(xi, yi, \"-\")\n",
    "plt.show()\n",
    "\n",
    "#theory\n",
    "#Get new quadratic\n",
    "#find new min \n",
    "#plug new min into rosenbrock\n",
    "#take output and place into points \n",
    "#repeat from recalc mean\n"
   ]
  },
  {
   "cell_type": "code",
   "execution_count": null,
   "metadata": {
    "collapsed": true
   },
   "outputs": [],
   "source": []
  }
 ],
 "metadata": {
  "kernelspec": {
   "display_name": "Python [Root]",
   "language": "python",
   "name": "Python [Root]"
  },
  "language_info": {
   "codemirror_mode": {
    "name": "ipython",
    "version": 2
   },
   "file_extension": ".py",
   "mimetype": "text/x-python",
   "name": "python",
   "nbconvert_exporter": "python",
   "pygments_lexer": "ipython2",
   "version": "2.7.12"
  }
 },
 "nbformat": 4,
 "nbformat_minor": 0
}
