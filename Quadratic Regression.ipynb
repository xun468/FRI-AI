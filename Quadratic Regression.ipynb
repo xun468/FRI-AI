{
 "cells": [
  {
   "cell_type": "code",
   "execution_count": 129,
   "metadata": {
    "collapsed": false
   },
   "outputs": [],
   "source": [
    "from deap import tools, creator, base, algorithms\n",
    "import numpy\n",
    "import random\n",
    "import matplotlib.pyplot as plt\n",
    "from matplotlib import cm\n",
    "from mpl_toolkits.mplot3d import Axes3D\n",
    "%matplotlib inline\n",
    "\n",
    "points = []\n",
    "mean = 0.0\n",
    "model_coef = []\n",
    "\n",
    "#Rosenbrock z = (a-x)**2 + B(y-x**2)**2\n",
    "a = 1\n",
    "b = 100\n",
    "def rosenbrocke(x,y): \n",
    "    return (a-x)**2 + b*(y-x**2)**2\n",
    "\n",
    "def rosenbrock():\n",
    "    x = random.randint(-10,10)\n",
    "    y = random.randint(-10,10)\n",
    "    z = (a-x)**2 + b*(y-x**2)**2\n",
    "    return (x,y,z)\n",
    "\n",
    "def quadratic3d(coef):\n",
    "        x = point[0]\n",
    "        y = point[1]\n",
    "        return coef[0]*(x**2) + coef[1]*(y**2) + coef[2]*x + coef[3]*y + coef[4]\n",
    "    \n",
    "def quadratic3de(x,y):\n",
    "    return model_coef[0]*(x**2) + model_coef[1]*(y**2) + model_coef[2]*x + model_coef[3]*y + model_coef[4]\n",
    "\n",
    "def quadratic2d(coef):\n",
    "        x = point[0]\n",
    "        return coef[0]*(x**2) + coef[1]*x + coef[2]"
   ]
  },
  {
   "cell_type": "code",
   "execution_count": 130,
   "metadata": {
    "collapsed": false
   },
   "outputs": [],
   "source": [
    "def test_regress(coef):\n",
    "    SSres = 0 \n",
    "    SStot = 0\n",
    "\n",
    "    for point in points:        \n",
    "        zi = quadratic3d(coef)\n",
    "        SSres = SSres + (point[2] - zi)**2\n",
    "        SStot = SStot + (point[2] - mean)**2\n",
    "\n",
    "    err = SSres/SStot\n",
    "\n",
    "    return (err,)"
   ]
  },
  {
   "cell_type": "code",
   "execution_count": 131,
   "metadata": {
    "collapsed": true
   },
   "outputs": [],
   "source": [
    "def test_min(coords):\n",
    "    return (quadratic3de(coords[0],coords[1]),)"
   ]
  },
  {
   "cell_type": "code",
   "execution_count": 139,
   "metadata": {
    "collapsed": false
   },
   "outputs": [],
   "source": [
    "def model ():\n",
    "    creator.create(\"bestFit\", base.Fitness, weights = (-1.0,))\n",
    "    creator.create(\"Individual\",list,fitness=creator.bestFit)\n",
    "\n",
    "    toolbox = base.Toolbox()\n",
    "    toolbox.register(\"Coeff\",random.uniform,-30,30) #values picked at random, not sure how to improve\n",
    "    toolbox.register(\"individual\",tools.initRepeat,creator.Individual,toolbox.Coeff, 5) \n",
    "    toolbox.register(\"population\",tools.initRepeat,list,toolbox.individual, n = 50)\n",
    "    toolbox.register(\"evaluate\",test_regress)\n",
    "\n",
    "    toolbox.register(\"mate\",tools.cxBlend,alpha=.5)\n",
    "    toolbox.register(\"mutate\",tools.mutGaussian,mu=0,sigma=1,indpb=.5)\n",
    "    toolbox.register(\"select\", tools.selTournament,tournsize =3)\n",
    "    toolbox.register(\"map\",map)\n",
    "\n",
    "    cxprob, mutprob, ngens = 0.5,0.1,100\n",
    "    pop = toolbox.population()\n",
    "    ind = toolbox.individual()\n",
    "    hof = tools.HallOfFame(1)\n",
    "    pop = algorithms.eaMuCommaLambda(pop, toolbox,10,50, cxprob, mutprob, ngens,halloffame = hof, verbose = 0)\n",
    "    return hof[0]"
   ]
  },
  {
   "cell_type": "code",
   "execution_count": 133,
   "metadata": {
    "collapsed": true
   },
   "outputs": [],
   "source": [
    "def findMin():\n",
    "    creator.create(\"bestFit\", base.Fitness, weights = (-1.0,))\n",
    "    creator.create(\"Individual\",list,fitness=creator.bestFit)\n",
    "\n",
    "    toolbox = base.Toolbox()\n",
    "    toolbox.register(\"coord\",random.uniform,-10,10) #same range as randomly generated\n",
    "    toolbox.register(\"individual\",tools.initRepeat,creator.Individual,toolbox.coord, 2) \n",
    "    toolbox.register(\"population\",tools.initRepeat,list,toolbox.individual, n = 50)\n",
    "    toolbox.register(\"evaluate\",test_min)\n",
    "\n",
    "    toolbox.register(\"mate\",tools.cxBlend,alpha=.5)\n",
    "    toolbox.register(\"mutate\",tools.mutGaussian,mu=0,sigma=1,indpb=.5)\n",
    "    toolbox.register(\"select\", tools.selTournament,tournsize =3)\n",
    "    toolbox.register(\"map\",map)\n",
    "\n",
    "    cxprob, mutprob, ngens = 0.5,0.1,100\n",
    "    pop = toolbox.population()\n",
    "    ind = toolbox.individual()\n",
    "    hof = tools.HallOfFame(1)\n",
    "    pop = algorithms.eaMuCommaLambda(pop, toolbox,10,50, cxprob, mutprob, ngens,halloffame = hof, verbose = 0)\n",
    "    return hof[0]"
   ]
  },
  {
   "cell_type": "code",
   "execution_count": 140,
   "metadata": {
    "collapsed": false,
    "scrolled": false
   },
   "outputs": [
    {
     "name": "stdout",
     "output_type": "stream",
     "text": [
      "[-0.4517219819948596, -0.0904009883771105]\n",
      "[0.6402610830595936, 1.2412291802159987]\n",
      "[-0.6646191833159885, -0.43143554216319946]\n",
      "[2.2085531674585455, -0.38178921858932086]\n",
      "[-0.9603193807706388, -57.48468534779475]\n",
      "[-0.5671045398636181, 0.10234391381073385]\n",
      "[1.9267768814677875, -1.744221466252988]\n",
      "[-0.5563858182131519, 0.356829353333903]\n",
      "[1.2716461070458807, -0.5438838576879137]\n",
      "[-0.4077515253020382, 0.47085069065664975]\n"
     ]
    },
    {
     "data": {
      "image/png": "[encoded data removed]",
      "text/plain": [
       "<matplotlib.figure.Figure at 0x7f44eac421d0>"
      ]
     },
     "metadata": {},
     "output_type": "display_data"
    }
   ],
   "source": [
    "random.seed(10)\n",
    "xi,yi,zi,mi = [],[],[],[] #empty lists for plotting\n",
    "fig = plt.figure()\n",
    "\n",
    "#getting initial data\n",
    "for i in range(10):\n",
    "    points.append(rosenbrock())\n",
    "\n",
    "#end setting up, begin main loop\n",
    "for i in range(10):    \n",
    "    #find mean for SStott,there might be a way to speed up recalculating but for now its not the speed problem\n",
    "    mean = 0\n",
    "    for point in points:\n",
    "        mean = mean + point[2]\n",
    "    mean = mean/len(points)\n",
    "\n",
    "    model_coef = model() #GA\n",
    "    #c = (X^t * X)^-1 * X^t * y\n",
    "\n",
    "    #plotting\n",
    "    plt.clf()\n",
    "    for point in points:\n",
    "        xi.append(point[0])\n",
    "        yi.append(point[1]) \n",
    "        zi.append(point[2])\n",
    "        mi.append(quadratic3de(point[0],point[1]))\n",
    "\n",
    "\n",
    "    ax = fig.add_subplot(111,projection='3d')\n",
    "    ax.scatter(xi,yi,zi)\n",
    "    ax.plot_trisurf(xi,yi,mi,cmap=cm.spring)\n",
    "\n",
    "    newmin = findMin() #GA\n",
    "    print newmin\n",
    "    points.append([newmin[0],newmin[1],rosenbrocke(newmin[0],newmin[1])])"
   ]
  },
  {
   "cell_type": "code",
   "execution_count": null,
   "metadata": {
    "collapsed": true
   },
   "outputs": [],
   "source": []
  }
 ],
 "metadata": {
  "kernelspec": {
   "display_name": "Python [Root]",
   "language": "python",
   "name": "Python [Root]"
  },
  "language_info": {
   "codemirror_mode": {
    "name": "ipython",
    "version": 2
   },
   "file_extension": ".py",
   "mimetype": "text/x-python",
   "name": "python",
   "nbconvert_exporter": "python",
   "pygments_lexer": "ipython2",
   "version": "2.7.12"
  }
 },
 "nbformat": 4,
 "nbformat_minor": 0
}
